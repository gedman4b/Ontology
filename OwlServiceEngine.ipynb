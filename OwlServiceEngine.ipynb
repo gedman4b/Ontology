{
 "cells": [
  {
   "cell_type": "code",
   "execution_count": 1,
   "id": "f3df81d9-4f5a-4f2a-ac34-01f917c47e9a",
   "metadata": {},
   "outputs": [
    {
     "name": "stderr",
     "output_type": "stream",
     "text": [
      "* Owlready2 * Warning: optimized Cython parser module 'owlready2_optimized' is not available, defaulting to slower Python implementation\n"
     ]
    }
   ],
   "source": [
    "from flask import Flask\n",
    "from flask_restful import Api\n",
    "import warnings\n",
    "warnings.filterwarnings(\"ignore\")\n",
    "import SPARQLProcessing as sp"
   ]
  },
  {
   "cell_type": "code",
   "execution_count": 2,
   "id": "085825a9-c98d-4c1c-838d-f61f26ee64ec",
   "metadata": {},
   "outputs": [],
   "source": [
    "app = Flask(__name__)\n",
    "api = Api(app)"
   ]
  },
  {
   "cell_type": "code",
   "execution_count": 3,
   "id": "cfa64569-76f5-4b89-980f-095f9f140c4c",
   "metadata": {},
   "outputs": [],
   "source": [
    "api.add_resource(sp.NLP, '/nlpservice') "
   ]
  },
  {
   "cell_type": "code",
   "execution_count": 4,
   "id": "f4008b42-0ffd-4933-a2e8-79ad3f0dde57",
   "metadata": {},
   "outputs": [],
   "source": [
    "api.add_resource(sp.TripleQuery, '/checktriples')"
   ]
  },
  {
   "cell_type": "code",
   "execution_count": 5,
   "id": "154fe0e6-e9be-4694-817a-115b50a85142",
   "metadata": {},
   "outputs": [],
   "source": [
    "api.add_resource(sp.PredicateQuery, '/checkpredicate')"
   ]
  },
  {
   "cell_type": "code",
   "execution_count": 6,
   "id": "27987cee-41d9-4de4-86b1-c8d75527a1ea",
   "metadata": {},
   "outputs": [],
   "source": [
    "api.add_resource(sp.IndividualQuery, '/checkindividuals')"
   ]
  },
  {
   "cell_type": "code",
   "execution_count": 7,
   "id": "59ea4f2c-326b-441e-b32f-a38ffeb63d0f",
   "metadata": {},
   "outputs": [],
   "source": [
    "api.add_resource(sp.IndividualInference, '/inferindividuals')"
   ]
  },
  {
   "cell_type": "code",
   "execution_count": 8,
   "id": "a2d61e63-c36c-4e65-a1e4-5b352f3f7ccc",
   "metadata": {},
   "outputs": [
    {
     "name": "stdout",
     "output_type": "stream",
     "text": [
      " * Serving Flask app '__main__'\n",
      " * Debug mode: off\n"
     ]
    },
    {
     "name": "stderr",
     "output_type": "stream",
     "text": [
      "WARNING: This is a development server. Do not use it in a production deployment. Use a production WSGI server instead.\n",
      " * Running on http://127.0.0.1:5000\n",
      "Press CTRL+C to quit\n",
      "127.0.0.1 - - [19/May/2023 01:10:10] \"GET /nlpservice?search=Which+Adverse+Events+produced+by+drugs+for+Metastatic+Cancer+for+the+last+3+years+in+the+US HTTP/1.1\" 400 -\n",
      "127.0.0.1 - - [19/May/2023 01:10:54] \"GET / HTTP/1.1\" 404 -\n",
      "127.0.0.1 - - [19/May/2023 01:10:54] \"GET /favicon.ico HTTP/1.1\" 404 -\n",
      "127.0.0.1 - - [19/May/2023 01:13:16] \"GET / HTTP/1.1\" 404 -\n"
     ]
    }
   ],
   "source": [
    "if __name__ == \"__main__\":\n",
    "    app.run()"
   ]
  },
  {
   "cell_type": "code",
   "execution_count": null,
   "id": "a6eea06d-b75f-43ee-86ad-1935019e848b",
   "metadata": {},
   "outputs": [],
   "source": []
  }
 ],
 "metadata": {
  "kernelspec": {
   "display_name": "Python 3 (ipykernel)",
   "language": "python",
   "name": "python3"
  },
  "language_info": {
   "codemirror_mode": {
    "name": "ipython",
    "version": 3
   },
   "file_extension": ".py",
   "mimetype": "text/x-python",
   "name": "python",
   "nbconvert_exporter": "python",
   "pygments_lexer": "ipython3",
   "version": "3.11.2"
  }
 },
 "nbformat": 4,
 "nbformat_minor": 5
}
