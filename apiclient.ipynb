{
 "cells": [
  {
   "cell_type": "code",
   "execution_count": 13,
   "id": "f15c436f-aaf4-473e-aedd-0ae75af9f967",
   "metadata": {},
   "outputs": [],
   "source": [
    "import json\n",
    "import requests\n",
    "import urllib.request\n",
    "import pandas as pd\n",
    "pd.set_option('display.max_colwidth', 200)\n",
    "pd.set_option('display.max_rows', 100)\n",
    "#import networx as nx\n",
    "#from pyvis.network import Network\n",
    "import ast\n",
    "from IPython.display import HTML\n",
    "\n",
    "import matplotlib.pyplot as plt\n",
    "%matplotlib inline\n",
    "\n",
    "import warnings\n",
    "warnings.filterwarnings(\"ignore\")\n",
    "import nlpsparqlclient as nlpsc"
   ]
  },
  {
   "cell_type": "markdown",
   "id": "aaef6bc7-7a96-4bbf-b3c6-4dffab004ed0",
   "metadata": {},
   "source": [
    "## NLP NER/RR"
   ]
  },
  {
   "cell_type": "code",
   "execution_count": 7,
   "id": "2a54006a-9dc2-4df6-9be0-2d0e94e09f72",
   "metadata": {},
   "outputs": [
    {
     "ename": "HTTPError",
     "evalue": "400 Client Error: BAD REQUEST for url: http://localhost:5000/nlpservice?search=Which+Adverse+Events+produced+by+drugs+for+Metastatic+Cancer+for+the+last+3+years+in+the+US",
     "output_type": "error",
     "traceback": [
      "\u001b[1;31m---------------------------------------------------------------------------\u001b[0m",
      "\u001b[1;31mHTTPError\u001b[0m                                 Traceback (most recent call last)",
      "Cell \u001b[1;32mIn[7], line 3\u001b[0m\n\u001b[0;32m      1\u001b[0m search_text \u001b[38;5;241m=\u001b[39m \u001b[38;5;124m\"\u001b[39m\u001b[38;5;124mWhich Adverse Events produced by drugs for Metastatic Cancer for the last 3 years in the US\u001b[39m\u001b[38;5;124m\"\u001b[39m\n\u001b[1;32m----> 3\u001b[0m entities, relations \u001b[38;5;241m=\u001b[39m \u001b[43mnlpsc\u001b[49m\u001b[38;5;241;43m.\u001b[39;49m\u001b[43mstart_nlp_client\u001b[49m\u001b[43m(\u001b[49m\u001b[43msearch_text\u001b[49m\u001b[43m)\u001b[49m\n",
      "File \u001b[1;32m~\\OneDrive\\Documents\\Python\\Ontologies\\nlpsparqlclient.py:45\u001b[0m, in \u001b[0;36mstart_nlp_client\u001b[1;34m(search_text)\u001b[0m\n\u001b[0;32m     43\u001b[0m \u001b[38;5;28;01mdef\u001b[39;00m \u001b[38;5;21mstart_nlp_client\u001b[39m(search_text):\n\u001b[0;32m     44\u001b[0m     endpoint_url \u001b[38;5;241m=\u001b[39m service \u001b[38;5;241m+\u001b[39m \u001b[38;5;124m\"\u001b[39m\u001b[38;5;124m/nlpservice\u001b[39m\u001b[38;5;124m\"\u001b[39m\n\u001b[1;32m---> 45\u001b[0m     results \u001b[38;5;241m=\u001b[39m json\u001b[38;5;241m.\u001b[39mloads(\u001b[43mget_nlp_results\u001b[49m\u001b[43m(\u001b[49m\u001b[43mendpoint_url\u001b[49m\u001b[43m,\u001b[49m\u001b[43m \u001b[49m\u001b[43msearch_text\u001b[49m\u001b[43m)\u001b[49m)\n\u001b[0;32m     46\u001b[0m     \u001b[38;5;28;01mreturn\u001b[39;00m results\n",
      "File \u001b[1;32m~\\OneDrive\\Documents\\Python\\Ontologies\\nlpsparqlclient.py:11\u001b[0m, in \u001b[0;36mget_nlp_results\u001b[1;34m(endpoint_url, search_text)\u001b[0m\n\u001b[0;32m      9\u001b[0m     \u001b[38;5;28;01mreturn\u001b[39;00m response_text\n\u001b[0;32m     10\u001b[0m \u001b[38;5;28;01melse\u001b[39;00m:\n\u001b[1;32m---> 11\u001b[0m     \u001b[43mresponse\u001b[49m\u001b[38;5;241;43m.\u001b[39;49m\u001b[43mraise_for_status\u001b[49m\u001b[43m(\u001b[49m\u001b[43m)\u001b[49m\n",
      "File \u001b[1;32mC:\\Programs\\Python\\Python311\\Lib\\site-packages\\requests\\models.py:1021\u001b[0m, in \u001b[0;36mResponse.raise_for_status\u001b[1;34m(self)\u001b[0m\n\u001b[0;32m   1016\u001b[0m     http_error_msg \u001b[38;5;241m=\u001b[39m (\n\u001b[0;32m   1017\u001b[0m         \u001b[38;5;124mf\u001b[39m\u001b[38;5;124m\"\u001b[39m\u001b[38;5;132;01m{\u001b[39;00m\u001b[38;5;28mself\u001b[39m\u001b[38;5;241m.\u001b[39mstatus_code\u001b[38;5;132;01m}\u001b[39;00m\u001b[38;5;124m Server Error: \u001b[39m\u001b[38;5;132;01m{\u001b[39;00mreason\u001b[38;5;132;01m}\u001b[39;00m\u001b[38;5;124m for url: \u001b[39m\u001b[38;5;132;01m{\u001b[39;00m\u001b[38;5;28mself\u001b[39m\u001b[38;5;241m.\u001b[39murl\u001b[38;5;132;01m}\u001b[39;00m\u001b[38;5;124m\"\u001b[39m\n\u001b[0;32m   1018\u001b[0m     )\n\u001b[0;32m   1020\u001b[0m \u001b[38;5;28;01mif\u001b[39;00m http_error_msg:\n\u001b[1;32m-> 1021\u001b[0m     \u001b[38;5;28;01mraise\u001b[39;00m HTTPError(http_error_msg, response\u001b[38;5;241m=\u001b[39m\u001b[38;5;28mself\u001b[39m)\n",
      "\u001b[1;31mHTTPError\u001b[0m: 400 Client Error: BAD REQUEST for url: http://localhost:5000/nlpservice?search=Which+Adverse+Events+produced+by+drugs+for+Metastatic+Cancer+for+the+last+3+years+in+the+US"
     ]
    }
   ],
   "source": [
    "search_text = \"Which Adverse Events produced by drugs for Metastatic Cancer for the last 3 years in the US\"\n",
    "\n",
    "entities, relations = nlpsc.start_nlp_client(search_text)"
   ]
  },
  {
   "cell_type": "code",
   "execution_count": 8,
   "id": "fc2d4cf1-1c79-4b1c-b7c2-b70cbad078af",
   "metadata": {},
   "outputs": [],
   "source": [
    "def remove_plural(s):\n",
    "    if s[-1] == 's':\n",
    "        s = s.rstrip(s[-1])\n",
    "    return s"
   ]
  },
  {
   "cell_type": "markdown",
   "id": "cbf93182-4eda-4b4a-9d92-d04a14f30311",
   "metadata": {},
   "source": [
    "## Ontology"
   ]
  },
  {
   "cell_type": "code",
   "execution_count": 10,
   "id": "6f192e8c-f09d-4ef4-9e23-46da4a5af19b",
   "metadata": {},
   "outputs": [],
   "source": [
    "def check4relationship(entities):\n",
    "    # given 2 entities, see if a relation exists between them in the ontology\n",
    "    relation_dict = {}\n",
    "    data = []\n",
    "    if len(entities) < 2:\n",
    "        result = []\n",
    "    else:\n",
    "        for e1 in entities:\n",
    "            for e2 in entities:\n",
    "                if e1 != e2:\n",
    "                    result = nlpsc.start_predicate_client(e1, e2)\n",
    "\n",
    "                    if result is not None:\n",
    "                        relation_dict = {'entity1': remove_plural(e1), 'relation': result['data'][0], 'entity2': remove_plural(e2)}\n",
    "                        data.append(relation_dict)\n",
    "        if data != []:\n",
    "            return pd.DataFrame(data=data)\n",
    "        else:\n",
    "            return(\"There are no relationships\")\n",
    "                                     "
   ]
  },
  {
   "cell_type": "code",
   "execution_count": null,
   "id": "6ac49a4d-c09a-4591-adb0-c11201a7a913",
   "metadata": {},
   "outputs": [],
   "source": [
    "rel_data_df = check4relationship(entities)\n",
    "rel_data_df_dict = rel_data_df.to_dict()\n",
    "rel_data_df"
   ]
  },
  {
   "cell_type": "code",
   "execution_count": 11,
   "id": "ce8f154b-922e-4021-b42c-8914db385d6d",
   "metadata": {},
   "outputs": [],
   "source": [
    "def check4triples(entities, relations):\n",
    "    # check for existing triples in the ontology\n",
    "    triple_dict = {}\n",
    "    data = []\n",
    "    for entity1 in entities:\n",
    "        for relation in relations:\n",
    "            for entity2 in entities:\n",
    "\n",
    "                if results['data']:\n",
    "                    triple_dict = {'entity1': remove_plural(entity1), 'relation': relation, 'entity2': remove_plural(entity2)}\n",
    "                    data.append(triple_dict)\n",
    "    if data != []:\n",
    "        return pd.DataFrame(data=data)\n",
    "    else:\n",
    "        return(\"There are no triples\")\n"
   ]
  },
  {
   "cell_type": "code",
   "execution_count": null,
   "id": "6b2e0307-be58-4132-b544-7638f7967ad4",
   "metadata": {},
   "outputs": [],
   "source": [
    "df = check4triples(entities, relations)\n",
    "df_dict = df.to_dict()"
   ]
  },
  {
   "cell_type": "code",
   "execution_count": null,
   "id": "de4efa17-d969-44ba-9c2d-85b3c6c94948",
   "metadata": {},
   "outputs": [],
   "source": [
    "df"
   ]
  },
  {
   "cell_type": "code",
   "execution_count": 12,
   "id": "741e0e56-646c-4223-8999-00c1ed5cc01c",
   "metadata": {},
   "outputs": [],
   "source": [
    "def check4individuals(entity, relation):\n",
    "    # find any individuals from a given entity in the ontology\n",
    "    results = nlpsc.start_individuals_client(entity, relation)\n",
    "\n",
    "    if results != []:\n",
    "        if results['data'] != '[]':\n",
    "            return results\n",
    "    else:\n",
    "        return(\"There are no individuals for \" + entity)\n"
   ]
  },
  {
   "cell_type": "code",
   "execution_count": null,
   "id": "0e1e7e2f-7061-49ed-ab17-845ca5a5d206",
   "metadata": {},
   "outputs": [],
   "source": [
    "individuals = []\n",
    "for e in entities:\n",
    "    for r in relations:\n",
    "        indiv_dict = check4individuals(e, r)\n",
    "        if indiv_dict != None:\n",
    "            for k,v in indiv_dict.items():\n",
    "                individuals = ast.literal_eval(v)"
   ]
  },
  {
   "cell_type": "markdown",
   "id": "5c21fd00-5180-4a52-bc4e-a0d4631c25d4",
   "metadata": {},
   "source": [
    "## Results to user search query"
   ]
  },
  {
   "cell_type": "code",
   "execution_count": null,
   "id": "a624a750-48e0-41b2-ad78-a7f7b218b4e0",
   "metadata": {},
   "outputs": [],
   "source": [
    "df_html = pd.DataFrame(individuals, columns=['Adverse Events'])\n",
    "df_html.to_csv(df_html.columns[0].replace(' ', '_') + '.csv', index=False)\n",
    "HTML(df_html.to_html(index=False))"
   ]
  },
  {
   "cell_type": "markdown",
   "id": "6dee4980-f186-44ae-8b38-16de7bf559b8",
   "metadata": {},
   "source": [
    "## Knowledge Graph"
   ]
  },
  {
   "cell_type": "code",
   "execution_count": null,
   "id": "ee98a65d-5268-4891-ae53-669cc2df996e",
   "metadata": {},
   "outputs": [],
   "source": [
    "net =  Network(height='900px', width='100%', directed=True, notebook=True, heading='Clinical Trials')\n",
    "net.barnes_hut(central_gravity=1.7, spring_length=70)\n",
    "net.show_buttons(filter_=['physics'])"
   ]
  },
  {
   "cell_type": "code",
   "execution_count": null,
   "id": "123b2409-bef5-438d-afe0-b4893b0e7d33",
   "metadata": {},
   "outputs": [],
   "source": [
    "triples = [v[0] for k,v in df_dict.items()]\n",
    "\n",
    "i = 0\n",
    "for node in triples:\n",
    "    if i == 0:\n",
    "        color = 'teal'\n",
    "    else:\n",
    "        color = 'aqua'\n",
    "\n",
    "    if i != 1:\n",
    "        net.add_node(node, size=5-, shape='circle', title=node, label=node, color=color)\n",
    "    else:\n",
    "        title = node\n",
    "        label = node\n",
    "    i+=1\n",
    "net.add_edge(net.nodes[0]['id'], net.nodes[1]['id'], width=2, title=title, label=label, color='#ff0000')"
   ]
  },
  {
   "cell_type": "code",
   "execution_count": null,
   "id": "739ccdc5-d6de-46ce-9f17-b8e67f8096e7",
   "metadata": {},
   "outputs": [],
   "source": [
    "for node in individuals:\n",
    "    net.add_node(node, title=node, label=node, color='orange')\n",
    "    net.add_edge(node, net.nodes[0]['id'], width=2, title='a kind of', label='a kind of', color='purple')"
   ]
  },
  {
   "cell_type": "code",
   "execution_count": null,
   "id": "933d01b5-ec8d-4346-8225-c972c7287ff6",
   "metadata": {},
   "outputs": [],
   "source": [
    "net.show('basic.html')"
   ]
  },
  {
   "cell_type": "code",
   "execution_count": null,
   "id": "0edc3e18-b4b4-4282-8b18-672ec7acadff",
   "metadata": {},
   "outputs": [],
   "source": [
    "net.save_graph('Adverse_Events.html')"
   ]
  }
 ],
 "metadata": {
  "kernelspec": {
   "display_name": "Python 3 (ipykernel)",
   "language": "python",
   "name": "python3"
  },
  "language_info": {
   "codemirror_mode": {
    "name": "ipython",
    "version": 3
   },
   "file_extension": ".py",
   "mimetype": "text/x-python",
   "name": "python",
   "nbconvert_exporter": "python",
   "pygments_lexer": "ipython3",
   "version": "3.11.2"
  }
 },
 "nbformat": 4,
 "nbformat_minor": 5
}
