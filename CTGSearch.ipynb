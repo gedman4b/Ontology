{
 "cells": [
  {
   "cell_type": "code",
   "execution_count": 1,
   "id": "0c639ea7-4ea6-4f6e-8a20-caf199563868",
   "metadata": {},
   "outputs": [],
   "source": [
    "import json\n",
    "import requests\n",
    "import urllib.request\n",
    "import pandas as pd\n",
    "pd.set_option('display.max_colwidth', 200)\n",
    "pd.set_option('display.max_rows', 100)\n",
    "\n",
    "import warnings\n",
    "warnings.filterwarnings(\"ignore\")"
   ]
  },
  {
   "cell_type": "code",
   "execution_count": 3,
   "id": "0aeb6018-9712-4083-aacd-a333f6dbe9dc",
   "metadata": {},
   "outputs": [],
   "source": [
    "class ClinicalTrialsGovDocuments():\n",
    "    def __init__(self):\n",
    "        self.base_url_study_fields = 'https://clinicaltrials.gov/api/query/study_fields?'\n",
    "        self.base_url_full_studies = 'https://clinicaltrials.gov/api/query/full_studies?'\n",
    "        self.output_file_path = r\"c:\\\\\"\n",
    "\n",
    "    def search(self, expr, fields):\n",
    "        expr = expr.replace(' ', '+')\n",
    "        url = self.base_url_study_fields + 'expr=' + expr + '&fields=' + fields + '&min_rnk=1&max_rnk=1000&fmt=json'\n",
    "        urlf = self.base_url_full_studies + 'expr=' + expr + '&fmt=json'\n",
    "\n",
    "        # search for specified database with the text string.\n",
    "        # For each record found return the document.\n",
    "\n",
    "        result = urllib.request.urlopen(url)\n",
    "        text = result.read().decode('utf-8')\n",
    "\n",
    "        json_text = json.loads(text)\n",
    "\n",
    "        # Call retrieve_document() for each NCTid.\n",
    "\n",
    "        study_fields = json_text[\"StudyfieldsResponse\"][\"StudyFields\"]\n",
    "\n",
    "        document_list = []\n",
    "        for study_field in study_fields:\n",
    "            document_list.append(study_field)\n",
    "\n",
    "        return document_list\n",
    "    \n",
    "    def extract_single_values(self, df):\n",
    "        nctids = []\n",
    "        brief_titles = []\n",
    "        conditions = []\n",
    "        brief_summaries = []\n",
    "        detailed_descriptions = []\n",
    "        for _, row in df.iterrows():\n",
    "            nctids.append(row.NCTId[0])\n",
    "            brief_titles.append(row.BriefTitle[0])\n",
    "            conditions.append(row.Condition[0])\n",
    "            brief_summaries.append(row.BriefSummary[0])\n",
    "            detailed_descriptions.append(row.DetailedDescription[0] if row.DetailedDescription != [] else \"None\")\n",
    "        return pd.DataFrame({\n",
    "            \"NCTId\": nctids,\n",
    "            \"BriefTitle\": brief_titles,\n",
    "            \"Condition\": conditions,\n",
    "            \"BriefSummary\": brief_summaries,\n",
    "            \"DetailedDescription\": detailed_descriptions\n",
    "        })\n",
    "\n",
    "    def drill_down_documents(self, df):\n",
    "        nctids = []\n",
    "        brief_titles = []\n",
    "        conditions = []\n",
    "        brief_summaries = []\n",
    "        detailed_descriptions = []\n",
    "        for _, row in df.iterrows():\n",
    "            nctid = row.NCTId\n",
    "            brief_title = row.BriefTitle\n",
    "            condition = row.Condition\n",
    "            brief_summary = row.BriefSummary\n",
    "            detailed_description = row.DetailedDescription\n",
    "\n",
    "            # breaking up rows with multiple conditions\n",
    "            for doc_cond in row.Condition:\n",
    "                nctids.append(nctid[0])\n",
    "                brief_titles.append(row.brief_title[0])\n",
    "                conditions.append(doc_cond)\n",
    "                brief_summaries.append(brief_summary[0])\n",
    "                detailed_descriptions.append(detailed_description[0] if detailed_description != [] else \"None\")\n",
    "        return pd.DataFrame({\n",
    "            \"NCTId\": nctids,\n",
    "            \"BriefTitle\": brief_titles,\n",
    "            \"Condition\": conditions,\n",
    "            \"BriefSummary\": brief_summaries,\n",
    "            \"DetailedDescription\": detailed_descriptions\n",
    "        })\n",
    "        "
   ]
  },
  {
   "cell_type": "code",
   "execution_count": 4,
   "id": "fc139016-6166-4573-a709-4861b48b75c5",
   "metadata": {},
   "outputs": [],
   "source": [
    "def create_clickable_id(id):\n",
    "    url_template = '<a href=\"https://clinicaltrials.gov/ct2/show/{id}\" target=\"_blank\">{id}</a>'''.format(id=id)\n",
    "    return url_template\n"
   ]
  },
  {
   "cell_type": "code",
   "execution_count": 5,
   "id": "5f54c585-a55c-48c1-b628-0082eaed03c5",
   "metadata": {},
   "outputs": [],
   "source": [
    "ctd = ClinicalTrialsGovDocuments()"
   ]
  },
  {
   "cell_type": "code",
   "execution_count": null,
   "id": "92b6479a-5216-4d09-841d-49410e10ae87",
   "metadata": {},
   "outputs": [],
   "source": [
    "fields = \"NCTId,BriefTitle,Condition,BriefSummary,DetailedDescription\"\n",
    "document_list = pd.DataFrame(document_list).drop(['Rank'], axis=1)\n",
    "df_documents = ctd.extract_single_values(df_documents)\n",
    "df_documents['NCTId'] = df_documents['NCTId'].apply(create_Clickable_id)\n",
    "df_docmuents = HTML(df_documents.to_html(index-False, render_links=True,escape=False))\n",
    "df_documents"
   ]
  },
  {
   "cell_type": "code",
   "execution_count": null,
   "id": "0869444d-636a-4e26-b5d1-6700bb1ee5c3",
   "metadata": {},
   "outputs": [],
   "source": [
    "# TODO break up search text into sentences and run each one through NLP\n",
    "search_results = search_text.split('. ')"
   ]
  },
  {
   "cell_type": "code",
   "execution_count": null,
   "id": "501e5de7-a34c-4507-9be1-625580969b66",
   "metadata": {},
   "outputs": [],
   "source": [
    "search_results"
   ]
  },
  {
   "cell_type": "code",
   "execution_count": null,
   "id": "9f0c71a8-2964-456a-abf5-4b0fa84393c5",
   "metadata": {},
   "outputs": [],
   "source": [
    "#search_text = \"Are there cases in the last decade where patients with pericardial aortic valves inserted in the reverse position, to serve as mitral valve replacements.\"\n",
    "#search_text = \"smoking causes lung cancer\"\n",
    "\n",
    "#search_text = \"High volume disease is defined as the presence of either visceral metastases or >= 4 bone metastases with >= 1 beyond the vertebral bodies and pelvis.\"\n",
    "#search_text = \"Sponsor submits certification\""
   ]
  }
 ],
 "metadata": {
  "kernelspec": {
   "display_name": "Python 3 (ipykernel)",
   "language": "python",
   "name": "python3"
  },
  "language_info": {
   "codemirror_mode": {
    "name": "ipython",
    "version": 3
   },
   "file_extension": ".py",
   "mimetype": "text/x-python",
   "name": "python",
   "nbconvert_exporter": "python",
   "pygments_lexer": "ipython3",
   "version": "3.11.2"
  }
 },
 "nbformat": 4,
 "nbformat_minor": 5
}
